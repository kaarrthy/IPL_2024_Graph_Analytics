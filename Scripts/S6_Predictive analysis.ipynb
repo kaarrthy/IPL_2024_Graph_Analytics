{
 "cells": [
  {
   "cell_type": "code",
   "execution_count": 8,
   "id": "2e3b0124-9361-4ffa-85a2-4a546870aa39",
   "metadata": {},
   "outputs": [],
   "source": [
    "import pandas as pd\n",
    "import numpy as np\n",
    "from sklearn.model_selection import train_test_split\n",
    "from sklearn.ensemble import RandomForestRegressor, GradientBoostingClassifier\n",
    "from sklearn.metrics import mean_absolute_error, accuracy_score\n",
    "from sklearn.linear_model import LogisticRegression\n",
    "\n",
    "from sklearn.linear_model import LinearRegression\n",
    "from sklearn.metrics import mean_absolute_error\n",
    "\n",
    "import warnings\n",
    "\n",
    "# Suppress all warnings\n",
    "warnings.filterwarnings('ignore')"
   ]
  },
  {
   "cell_type": "code",
   "execution_count": 9,
   "id": "de498424-58ab-4df8-aaf1-c230dea09011",
   "metadata": {},
   "outputs": [],
   "source": [
    "# Load datasets\n",
    "ball_to_ball_data = pd.read_csv('ball_to_ball_data.csv')\n",
    "matchwise_player_stats = pd.read_csv('matchwise_player_stats.csv')\n",
    "tournament_player_stats = pd.read_csv('tournament_player_stats.csv')\n",
    "tournament_team_stats = pd.read_csv('tournament_team_stats.csv')\n",
    "\n",
    "# Preprocess ball-to-ball data\n",
    "ball_to_ball_data['date'] = pd.to_datetime(ball_to_ball_data['date'])\n",
    "ball_to_ball_data['ball_number'] = ball_to_ball_data['over'].apply(lambda x: int(x) * 6 + int((x - int(x)) * 10))\n"
   ]
  },
  {
   "cell_type": "code",
   "execution_count": 10,
   "id": "9eca8305-c266-418a-83df-61bf2d58a3ff",
   "metadata": {},
   "outputs": [],
   "source": [
    "#Aggregate runs scored by players per match\n",
    "player_runs = ball_to_ball_data.groupby(['match_id', 'striker'])['runs_of_bat'].sum().reset_index()\n",
    "\n",
    "# Merge with matchwise player stats\n",
    "matchwise_player_stats = matchwise_player_stats.merge(player_runs, left_on=['match_id', 'player'], right_on=['match_id', 'striker'], how='left')\n",
    "\n",
    "# Feature Engineering: Recent Form\n",
    "recent_form = matchwise_player_stats.groupby('player')['runs_scored'].rolling(window=3, min_periods=1).mean().reset_index()\n",
    "recent_form = recent_form.rename(columns={'runs_scored': 'recent_form'})\n",
    "\n",
    "matchwise_player_stats = matchwise_player_stats.merge(recent_form[['level_1', 'recent_form']], left_index=True, right_on='level_1', how='left')\n",
    "matchwise_player_stats.drop(columns=['level_1'], inplace=True)\n",
    "\n",
    "# Preprocess tournament_player_stats (Feature scaling could be applied if needed)\n",
    "tournament_player_stats['strike_rate'] = tournament_player_stats['runs_scored'] / tournament_player_stats['balls_faced'] * 100\n",
    "\n",
    "# Preprocess tournament_team_stats\n",
    "tournament_team_stats['win_loss_ratio'] = tournament_team_stats['matches_won'] / tournament_team_stats['matches_lost']"
   ]
  },
  {
   "cell_type": "code",
   "execution_count": 11,
   "id": "344f59d7-4421-4fb2-9219-4f941e00e8cf",
   "metadata": {},
   "outputs": [],
   "source": [
    "# Create target variables\n",
    "player_target = matchwise_player_stats['runs_scored']\n",
    "team_target = tournament_team_stats['matches_won']\n",
    "\n",
    "# Feature set for player prediction\n",
    "player_features = matchwise_player_stats[['recent_form', 'balls_faced', 'fours', 'sixes']]\n",
    "\n",
    "# Feature set for team prediction\n",
    "team_features = tournament_team_stats[['total_runs_scored', 'total_wickets_taken', 'win_loss_ratio']]\n",
    "\n",
    "# Train-test split\n",
    "X_player_train, X_player_test, y_player_train, y_player_test = train_test_split(player_features, player_target, test_size=0.2, random_state=42)\n",
    "X_team_train, X_team_test, y_team_train, y_team_test = train_test_split(team_features, team_target, test_size=0.2, random_state=42)"
   ]
  },
  {
   "cell_type": "code",
   "execution_count": 12,
   "id": "87d9008e-6104-4b4f-a763-22c46ab52e67",
   "metadata": {},
   "outputs": [
    {
     "name": "stdout",
     "output_type": "stream",
     "text": [
      "Player Prediction MAE: 1.8030384914035829\n"
     ]
    }
   ],
   "source": [
    "# Random Forest Regressor for player performance prediction\n",
    "player_model = RandomForestRegressor(n_estimators=100, random_state=42)\n",
    "player_model.fit(X_player_train, y_player_train)\n",
    "\n",
    "# Predict and evaluate\n",
    "player_predictions = player_model.predict(X_player_test)\n",
    "player_mae = mean_absolute_error(y_player_test, player_predictions)\n",
    "\n",
    "print(f'Player Prediction MAE: {player_mae}')"
   ]
  },
  {
   "cell_type": "code",
   "execution_count": 13,
   "id": "ce629c07-ce14-46c2-88f3-8617b284c6e4",
   "metadata": {},
   "outputs": [
    {
     "name": "stdout",
     "output_type": "stream",
     "text": [
      "Player Consistency Prediction MAE: 5.7138839272737245\n"
     ]
    }
   ],
   "source": [
    "# Consistency: Measure as standard deviation of runs scored in recent matches\n",
    "matchwise_player_stats['consistency'] = matchwise_player_stats.groupby('player')['runs_scored'].transform(\n",
    "    lambda x: x.rolling(window=3, min_periods=1).std())\n",
    "\n",
    "# Handle NaN values in the consistency column by filling with 0\n",
    "matchwise_player_stats['consistency'].fillna(0, inplace=True)\n",
    "\n",
    "# Prepare features and target for consistency prediction\n",
    "consistency_features = matchwise_player_stats[['recent_form', 'balls_faced', 'fours', 'sixes']]\n",
    "consistency_target = matchwise_player_stats['consistency']\n",
    "\n",
    "# Split the data into training and testing sets\n",
    "X_consistency_train, X_consistency_test, y_consistency_train, y_consistency_test = train_test_split(\n",
    "    consistency_features, consistency_target, test_size=0.2, random_state=42)\n",
    "\n",
    "# Train a Linear Regression model for player consistency prediction\n",
    "consistency_model = LinearRegression()\n",
    "consistency_model.fit(X_consistency_train, y_consistency_train)\n",
    "\n",
    "# Make predictions on the test set\n",
    "consistency_predictions = consistency_model.predict(X_consistency_test)\n",
    "\n",
    "# Calculate the Mean Absolute Error (MAE) of the predictions\n",
    "consistency_mae = mean_absolute_error(y_consistency_test, consistency_predictions)\n",
    "\n",
    "print(f'Player Consistency Prediction MAE: {consistency_mae}')"
   ]
  },
  {
   "cell_type": "code",
   "execution_count": null,
   "id": "0ce8abc5-ea74-4127-a31a-8772ac27e7c5",
   "metadata": {},
   "outputs": [],
   "source": []
  }
 ],
 "metadata": {
  "kernelspec": {
   "display_name": "Python 3 (ipykernel)",
   "language": "python",
   "name": "python3"
  },
  "language_info": {
   "codemirror_mode": {
    "name": "ipython",
    "version": 3
   },
   "file_extension": ".py",
   "mimetype": "text/x-python",
   "name": "python",
   "nbconvert_exporter": "python",
   "pygments_lexer": "ipython3",
   "version": "3.12.3"
  }
 },
 "nbformat": 4,
 "nbformat_minor": 5
}
