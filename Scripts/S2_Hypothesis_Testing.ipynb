{
 "cells": [
  {
   "cell_type": "code",
   "execution_count": 2,
   "id": "2776e03a-e836-42a9-8f06-0cca5506b29f",
   "metadata": {},
   "outputs": [],
   "source": [
    "import pandas as pd\n",
    "import warnings\n",
    "import numpy as np\n",
    "from scipy import stats\n",
    "\n",
    "# Suppress all warnings\n",
    "warnings.filterwarnings('ignore')\n",
    "\n",
    "\n",
    "# Load the tournament_player_stats dataframe\n",
    "tournament_player_stats = pd.read_csv('tournament_player_stats.csv')\n",
    "# Load the matchwise_player_stats dataframe\n",
    "data = pd.read_csv('ball_to_ball_data.csv')"
   ]
  },
  {
   "cell_type": "code",
   "execution_count": 3,
   "id": "36218e7c-0e25-47df-a9c9-443857e97106",
   "metadata": {},
   "outputs": [
    {
     "name": "stdout",
     "output_type": "stream",
     "text": [
      "4      100.00\n",
      "6        0.00\n",
      "10     127.27\n",
      "40     100.00\n",
      "46     143.26\n",
      "56       0.00\n",
      "65     206.67\n",
      "66     188.44\n",
      "72     154.70\n",
      "80     183.82\n",
      "89     120.93\n",
      "91       0.00\n",
      "122    133.33\n",
      "129    177.13\n",
      "152    120.00\n",
      "169    150.00\n",
      "176    176.19\n",
      "183     50.00\n",
      "194     33.33\n",
      "199    176.92\n",
      "203      0.00\n",
      "207    161.62\n",
      "Name: strike_rate, dtype: float64\n",
      "0      168.52\n",
      "2      205.96\n",
      "8       83.33\n",
      "25      79.31\n",
      "35     144.68\n",
      "54     192.86\n",
      "70     172.92\n",
      "85     138.46\n",
      "86       0.00\n",
      "87     125.71\n",
      "90     112.28\n",
      "112    142.92\n",
      "151    116.67\n",
      "153    129.52\n",
      "177      0.00\n",
      "184    146.02\n",
      "189      0.00\n",
      "190     92.31\n",
      "191    140.00\n",
      "198      0.00\n",
      "Name: strike_rate, dtype: float64\n"
     ]
    }
   ],
   "source": [
    "# Filter data for two specific teams\n",
    "team1_strike_rates = tournament_player_stats[tournament_player_stats['team'] == 'RCB']['strike_rate']\n",
    "team2_strike_rates = tournament_player_stats[tournament_player_stats['team'] == 'SRH']['strike_rate']\n",
    "\n",
    "print(team1_strike_rates)\n",
    "print(team2_strike_rates)"
   ]
  },
  {
   "cell_type": "code",
   "execution_count": 4,
   "id": "3cb10ad0-4b5f-43ec-b20a-9e52bfac71ad",
   "metadata": {},
   "outputs": [
    {
     "name": "stdout",
     "output_type": "stream",
     "text": [
      "Mean Strike rate of RCB: 113.80045454545453\n",
      "Mean Strike rate of SRH: 109.57350000000001\n",
      "Standard Deviation Strike rate of RCB: 69.18045274960762\n",
      "Standard Deviation Strike rate of SRH: 69.18045274960762\n"
     ]
    }
   ],
   "source": [
    "# Calculate means and standard deviations\n",
    "mean_team1 = np.mean(team1_strike_rates)\n",
    "mean_team2 = np.mean(team2_strike_rates)\n",
    "std_team1 = np.std(team1_strike_rates, ddof=1)\n",
    "std_team2 = np.std(team2_strike_rates, ddof=1)\n",
    "\n",
    "print(\"Mean Strike rate of RCB:\",mean_team1)\n",
    "print(\"Mean Strike rate of SRH:\",mean_team2)\n",
    "print(\"Standard Deviation Strike rate of RCB:\",std_team1)\n",
    "print(\"Standard Deviation Strike rate of SRH:\",std_team1)"
   ]
  },
  {
   "cell_type": "code",
   "execution_count": 5,
   "id": "55a61107-3e54-4d95-b6fd-28cffdf7b8cb",
   "metadata": {},
   "outputs": [
    {
     "name": "stdout",
     "output_type": "stream",
     "text": [
      "Z-Score: 0.2044322304124337\n",
      "P-Value: 0.8380157457487278\n",
      "Critical Z-Score: 1.959963984540054\n"
     ]
    }
   ],
   "source": [
    "alpha = 0.05 #level of significance\n",
    "\n",
    "# Z-test two-tailed\n",
    "n_team1 = len(team1_strike_rates) #sample size\n",
    "n_team2 = len(team2_strike_rates)\n",
    "z_score = (mean_team1 - mean_team2) / np.sqrt((std_team1**2 / n_team1) + (std_team2**2 / n_team2))\n",
    "print('Z-Score:', np.abs(z_score))\n",
    "\n",
    "p_value_z = stats.norm.sf(abs(z_score)) * 2  # Two-tailed\n",
    "print('P-Value:', p_value_z)\n",
    "\n",
    "# Critical Z-Score\n",
    "z_critical = stats.norm.ppf(1-alpha/2)\n",
    "print('Critical Z-Score:',z_critical)"
   ]
  },
  {
   "cell_type": "code",
   "execution_count": 6,
   "id": "60fbc3fe-4dec-4258-b859-c972df899ec2",
   "metadata": {},
   "outputs": [
    {
     "name": "stdout",
     "output_type": "stream",
     "text": [
      "T-test: T-score = 0.20378214285831195, P-Value: 0.8395569798321503 ,Critical-T:2.021075390306273\n"
     ]
    }
   ],
   "source": [
    "# Two-Sample T-test\n",
    "t_score, p_value_t = stats.ttest_ind(team1_strike_rates, team2_strike_rates)\n",
    "\n",
    "alpha = 0.05 #level of significance\n",
    "\n",
    "# Compute the degrees of freedom (df) (n_A-1)+(n_b-1)\n",
    "df = len(team1_strike_rates)+len(team2_strike_rates)-2\n",
    " \n",
    "# Calculate the critical t-value\n",
    "# ppf is used to find the critical t-value for a two-tailed test\n",
    "critical_t = stats.t.ppf(1 - alpha/2, df)\n",
    "\n",
    "print(f'T-test: T-score = {t_score}, P-Value: {p_value_t} ,Critical-T:{critical_t}')"
   ]
  },
  {
   "cell_type": "code",
   "execution_count": 7,
   "id": "6470180f-5b5f-477f-8d1c-591ecc7d5a0a",
   "metadata": {},
   "outputs": [
    {
     "name": "stdout",
     "output_type": "stream",
     "text": [
      "ANOVA: F-statistic = 0.6059373973907172, P-value = 0.7911750050659204\n"
     ]
    }
   ],
   "source": [
    "# ANOVA\n",
    "teams = tournament_player_stats['team'].unique()\n",
    "strike_rates_by_team = [tournament_player_stats[tournament_player_stats['team'] == team]['strike_rate'] for team in teams]\n",
    "\n",
    "f_statistic, p_value_anova = stats.f_oneway(*strike_rates_by_team)\n",
    "\n",
    "print(f'ANOVA: F-statistic = {f_statistic}, P-value = {p_value_anova}')"
   ]
  },
  {
   "cell_type": "code",
   "execution_count": 8,
   "id": "2a4f061d-cabd-4229-afd5-5c6f5103c175",
   "metadata": {},
   "outputs": [
    {
     "name": "stdout",
     "output_type": "stream",
     "text": [
      "0        early\n",
      "1        early\n",
      "2        early\n",
      "3        early\n",
      "4        early\n",
      "         ...  \n",
      "17051    early\n",
      "17052    early\n",
      "17053     late\n",
      "17054     late\n",
      "17055     late\n",
      "Name: over_category, Length: 17056, dtype: object\n",
      "272\n",
      "372\n",
      "8813\n",
      "8243\n"
     ]
    }
   ],
   "source": [
    "# Create early and late over categories\n",
    "data['over_category'] = np.where(data['over'] <= 10, 'early', 'late')\n",
    "print(data['over_category'])\n",
    "\n",
    "# Calculate the number of dismissals for a specific type in early and late overs\n",
    "dismissal_type = 'caught'\n",
    "early_dismissals = data[(data['over_category'] == 'early') & (data['wicket_type'] == dismissal_type)].shape[0]\n",
    "late_dismissals = data[(data['over_category'] == 'late') & (data['wicket_type'] == dismissal_type)].shape[0]\n",
    "total_early = data[data['over_category'] == 'early'].shape[0]\n",
    "total_late = data[data['over_category'] == 'late'].shape[0]\n",
    "\n",
    "print(early_dismissals)\n",
    "print(late_dismissals)\n",
    "print(total_early)\n",
    "print(total_late)"
   ]
  },
  {
   "cell_type": "code",
   "execution_count": 9,
   "id": "d76e53e8-c80d-49d5-8ac3-5e3b2da3a06a",
   "metadata": {},
   "outputs": [
    {
     "name": "stdout",
     "output_type": "stream",
     "text": [
      "0.030863497106547146\n",
      "0.045129200533786246\n"
     ]
    }
   ],
   "source": [
    "# Calculate proportions\n",
    "p_early = early_dismissals / total_early\n",
    "p_late = late_dismissals / total_late\n",
    "\n",
    "print(p_early)\n",
    "print(p_late)"
   ]
  },
  {
   "cell_type": "code",
   "execution_count": 10,
   "id": "d7890456-e98e-4664-ab63-b2fbd9930d3b",
   "metadata": {},
   "outputs": [
    {
     "name": "stdout",
     "output_type": "stream",
     "text": [
      "Z-test: Z-score = -4.85842961982554, P-Value: 1.183204524704062e-06\n"
     ]
    }
   ],
   "source": [
    "# Z-test\n",
    "std_pooled = np.sqrt((p_early * (1 - p_early) / total_early) + (p_late * (1 - p_late) / total_late))\n",
    "z_score = (p_early - p_late) / std_pooled\n",
    "p_value_z = stats.norm.sf(abs(z_score)) * 2  # Two-tailed\n",
    "\n",
    "print(f'Z-test: Z-score = {z_score}, P-Value: {p_value_z}')"
   ]
  },
  {
   "cell_type": "code",
   "execution_count": 11,
   "id": "c8ec51b7-0599-48d5-b72a-7aa2d9ed004a",
   "metadata": {},
   "outputs": [
    {
     "name": "stdout",
     "output_type": "stream",
     "text": [
      "T-test: T-score = -450.01405191463357, P-value = 0.0\n"
     ]
    }
   ],
   "source": [
    "# T-test\n",
    "t_score, p_value_t = stats.ttest_ind_from_stats(mean1=p_early, std1=np.sqrt(p_early * (1 - p_early) / total_early), nobs1=total_early, mean2=p_late, std2=np.sqrt(p_late * (1 - p_late) / total_late), nobs2=total_late)\n",
    "\n",
    "print(f'T-test: T-score = {t_score}, P-value = {p_value_t}')"
   ]
  },
  {
   "cell_type": "code",
   "execution_count": 12,
   "id": "4b4687fd-d6a8-4476-bf65-d14a7a368586",
   "metadata": {},
   "outputs": [
    {
     "name": "stdout",
     "output_type": "stream",
     "text": [
      "Chi-Square Test: Chi2 Stat = 14.907685867154184, P-value = 0.010764151017700542\n"
     ]
    }
   ],
   "source": [
    "# Create a contingency table\n",
    "contingency_table = pd.crosstab(data['wicket_type'], data['over_category'])\n",
    "\n",
    "# Chi-Square Test\n",
    "chi2_stat, p_value_chi, dof, expected = stats.chi2_contingency(contingency_table)\n",
    "\n",
    "print(f'Chi-Square Test: Chi2 Stat = {chi2_stat}, P-value = {p_value_chi}')\n"
   ]
  }
 ],
 "metadata": {
  "kernelspec": {
   "display_name": "Python 3 (ipykernel)",
   "language": "python",
   "name": "python3"
  },
  "language_info": {
   "codemirror_mode": {
    "name": "ipython",
    "version": 3
   },
   "file_extension": ".py",
   "mimetype": "text/x-python",
   "name": "python",
   "nbconvert_exporter": "python",
   "pygments_lexer": "ipython3",
   "version": "3.12.3"
  }
 },
 "nbformat": 4,
 "nbformat_minor": 5
}
